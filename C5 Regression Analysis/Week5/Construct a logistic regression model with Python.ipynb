{
 "cells": [
  {
   "cell_type": "markdown",
   "metadata": {
    "id": "YuVzCKZsD80q"
   },
   "source": [
    "# Binomial logistic regression (Part 1)\n"
   ]
  },
  {
   "cell_type": "markdown",
   "metadata": {
    "id": "aFu3ohRS7AqS"
   },
   "source": [
    "Throughout the following exercises, you will learn to use Python to build and evaluate a binomial logistic regression model. Before starting on this programming exercise, we strongly recommend watching the video lecture and completing the IVQ for the associated topics."
   ]
  },
  {
   "cell_type": "markdown",
   "metadata": {
    "id": "9NzZBvWT7Nkb"
   },
   "source": [
    "All the information you need for solving this assignment is in this notebook, and all the code you will be implementing will take place within this notebook."
   ]
  },
  {
   "cell_type": "markdown",
   "metadata": {
    "id": "98Uwa9yj7PlY"
   },
   "source": [
    "As we move forward, you can find instructions on how to install required libraries as they arise in this notebook. Before we begin with the exercises and analyzing the data, we need to import all libraries and extensions required for this programming exercise. Throughout the course, we will be using pandas and sickit-learn for operations, and seaborn for plotting."
   ]
  },
  {
   "cell_type": "markdown",
   "metadata": {
    "id": "kNZmIAr2RuLq"
   },
   "source": [
    "## Relevant imports"
   ]
  },
  {
   "cell_type": "markdown",
   "metadata": {
    "id": "K1ds6EDlMa13"
   },
   "source": [
    "Begin by importing the relevant packages and data."
   ]
  },
  {
   "cell_type": "code",
   "execution_count": 1,
   "metadata": {
    "id": "ku7DYiI4TJfe"
   },
   "outputs": [],
   "source": [
    "# Import pandas and seaborn packages\n",
    "import pandas as pd\n",
    "import matplotlib.pyplot as plt \n",
    "import seaborn as sns"
   ]
  },
  {
   "cell_type": "markdown",
   "metadata": {
    "id": "_XJ0dXPrTZt7"
   },
   "source": [
    "## Exploratory data analysis "
   ]
  },
  {
   "cell_type": "markdown",
   "metadata": {
    "id": "7i103UlWVy9t"
   },
   "source": [
    "**Note:** The following code cell is shown in the video, but it will only work if the .csv file is in the same folder as the notebook. Otherwise, please follow the data loading process outlined above."
   ]
  },
  {
   "cell_type": "code",
   "execution_count": 2,
   "metadata": {
    "id": "szENw9kUTFu5"
   },
   "outputs": [],
   "source": [
    "# Load in if csv file is in the same folder as notebook\n",
    "activity = pd.read_csv(\"activity.csv\")"
   ]
  },
  {
   "cell_type": "code",
   "execution_count": 3,
   "metadata": {
    "colab": {
     "base_uri": "https://localhost:8080/",
     "height": 300
    },
    "executionInfo": {
     "elapsed": 149,
     "status": "ok",
     "timestamp": 1660312975159,
     "user": {
      "displayName": "Rebecca Weng",
      "userId": "08002348150894593460"
     },
     "user_tz": 240
    },
    "id": "SnbYODnCTi8K",
    "outputId": "93858599-4fd2-4107-d7cd-083eba7daddb"
   },
   "outputs": [
    {
     "data": {
      "text/html": [
       "<div>\n",
       "<style scoped>\n",
       "    .dataframe tbody tr th:only-of-type {\n",
       "        vertical-align: middle;\n",
       "    }\n",
       "\n",
       "    .dataframe tbody tr th {\n",
       "        vertical-align: top;\n",
       "    }\n",
       "\n",
       "    .dataframe thead th {\n",
       "        text-align: right;\n",
       "    }\n",
       "</style>\n",
       "<table border=\"1\" class=\"dataframe\">\n",
       "  <thead>\n",
       "    <tr style=\"text-align: right;\">\n",
       "      <th></th>\n",
       "      <th>Acc (vertical)</th>\n",
       "      <th>LyingDown</th>\n",
       "    </tr>\n",
       "  </thead>\n",
       "  <tbody>\n",
       "    <tr>\n",
       "      <th>count</th>\n",
       "      <td>494.000000</td>\n",
       "      <td>494.000000</td>\n",
       "    </tr>\n",
       "    <tr>\n",
       "      <th>mean</th>\n",
       "      <td>45.512363</td>\n",
       "      <td>0.516194</td>\n",
       "    </tr>\n",
       "    <tr>\n",
       "      <th>std</th>\n",
       "      <td>44.799360</td>\n",
       "      <td>0.500244</td>\n",
       "    </tr>\n",
       "    <tr>\n",
       "      <th>min</th>\n",
       "      <td>-48.459000</td>\n",
       "      <td>0.000000</td>\n",
       "    </tr>\n",
       "    <tr>\n",
       "      <th>25%</th>\n",
       "      <td>0.918650</td>\n",
       "      <td>0.000000</td>\n",
       "    </tr>\n",
       "    <tr>\n",
       "      <th>50%</th>\n",
       "      <td>41.109500</td>\n",
       "      <td>1.000000</td>\n",
       "    </tr>\n",
       "    <tr>\n",
       "      <th>75%</th>\n",
       "      <td>89.339000</td>\n",
       "      <td>1.000000</td>\n",
       "    </tr>\n",
       "    <tr>\n",
       "      <th>max</th>\n",
       "      <td>112.310000</td>\n",
       "      <td>1.000000</td>\n",
       "    </tr>\n",
       "  </tbody>\n",
       "</table>\n",
       "</div>"
      ],
      "text/plain": [
       "       Acc (vertical)   LyingDown\n",
       "count      494.000000  494.000000\n",
       "mean        45.512363    0.516194\n",
       "std         44.799360    0.500244\n",
       "min        -48.459000    0.000000\n",
       "25%          0.918650    0.000000\n",
       "50%         41.109500    1.000000\n",
       "75%         89.339000    1.000000\n",
       "max        112.310000    1.000000"
      ]
     },
     "execution_count": 3,
     "metadata": {},
     "output_type": "execute_result"
    }
   ],
   "source": [
    "# Get summary statistics about the dataset\n",
    "activity.describe()"
   ]
  },
  {
   "cell_type": "code",
   "execution_count": 4,
   "metadata": {
    "colab": {
     "base_uri": "https://localhost:8080/",
     "height": 206
    },
    "executionInfo": {
     "elapsed": 14,
     "status": "ok",
     "timestamp": 1660312981736,
     "user": {
      "displayName": "Rebecca Weng",
      "userId": "08002348150894593460"
     },
     "user_tz": 240
    },
    "id": "G0bqgWQWTnUp",
    "outputId": "6a2bc422-97c6-4634-fc1c-c4aa12c57c78"
   },
   "outputs": [
    {
     "data": {
      "text/html": [
       "<div>\n",
       "<style scoped>\n",
       "    .dataframe tbody tr th:only-of-type {\n",
       "        vertical-align: middle;\n",
       "    }\n",
       "\n",
       "    .dataframe tbody tr th {\n",
       "        vertical-align: top;\n",
       "    }\n",
       "\n",
       "    .dataframe thead th {\n",
       "        text-align: right;\n",
       "    }\n",
       "</style>\n",
       "<table border=\"1\" class=\"dataframe\">\n",
       "  <thead>\n",
       "    <tr style=\"text-align: right;\">\n",
       "      <th></th>\n",
       "      <th>Acc (vertical)</th>\n",
       "      <th>LyingDown</th>\n",
       "    </tr>\n",
       "  </thead>\n",
       "  <tbody>\n",
       "    <tr>\n",
       "      <th>0</th>\n",
       "      <td>96.229</td>\n",
       "      <td>0</td>\n",
       "    </tr>\n",
       "    <tr>\n",
       "      <th>1</th>\n",
       "      <td>84.746</td>\n",
       "      <td>0</td>\n",
       "    </tr>\n",
       "    <tr>\n",
       "      <th>2</th>\n",
       "      <td>82.449</td>\n",
       "      <td>0</td>\n",
       "    </tr>\n",
       "    <tr>\n",
       "      <th>3</th>\n",
       "      <td>106.560</td>\n",
       "      <td>0</td>\n",
       "    </tr>\n",
       "    <tr>\n",
       "      <th>4</th>\n",
       "      <td>80.152</td>\n",
       "      <td>0</td>\n",
       "    </tr>\n",
       "  </tbody>\n",
       "</table>\n",
       "</div>"
      ],
      "text/plain": [
       "   Acc (vertical)  LyingDown\n",
       "0          96.229          0\n",
       "1          84.746          0\n",
       "2          82.449          0\n",
       "3         106.560          0\n",
       "4          80.152          0"
      ]
     },
     "execution_count": 4,
     "metadata": {},
     "output_type": "execute_result"
    }
   ],
   "source": [
    "# Examine the dataset\n",
    "activity.head()"
   ]
  },
  {
   "cell_type": "markdown",
   "metadata": {
    "id": "DhQOZeiaT22w"
   },
   "source": [
    "## Construct binomial logistic regression model"
   ]
  },
  {
   "cell_type": "markdown",
   "metadata": {
    "id": "vm5-H84dZbon"
   },
   "source": [
    "For binomial logistic regression, we'll be using the `scikit-learn` package, which is frequently used for machine learning and more advanced data science topics. For the purposes of this exercise, we'll only load in the functions we need: `train_test_split()` and `LogisticRegression()`."
   ]
  },
  {
   "cell_type": "code",
   "execution_count": 5,
   "metadata": {
    "id": "U35tLg4rT0wJ"
   },
   "outputs": [],
   "source": [
    "# Load in sci-kit learn functions for constructing logistic regression\n",
    "from sklearn.model_selection import train_test_split\n",
    "from sklearn.linear_model import LogisticRegression"
   ]
  },
  {
   "cell_type": "markdown",
   "metadata": {
    "id": "Pt6gCjCxZxIr"
   },
   "source": [
    "Then, we'll save the data into variables called X and y so we can use the `train_test_split()` function more easily. Remember that you can subset specific columns of a DataFrame object by using double square brackets: `[[]]` and listing the columns in between, separated by commas."
   ]
  },
  {
   "cell_type": "code",
   "execution_count": 6,
   "metadata": {
    "id": "J6gEcI3nVEdA"
   },
   "outputs": [],
   "source": [
    "# Save X and y data into variables\n",
    "X = activity[[\"Acc (vertical)\"]]\n",
    "y = activity[[\"LyingDown\"]]"
   ]
  },
  {
   "cell_type": "markdown",
   "metadata": {
    "id": "XFjASWrkZ22w"
   },
   "source": [
    "Then we'll split the data into training and holdout datasets. We set the `test_size` to `0.3` so that the holdout dataset is only 30% of the total data we have. We'll set the `random_state` equal to `42`. If you change this variable, then your results will be different from ours. Setting the `random_state` is mainly for reproducibility purposes."
   ]
  },
  {
   "cell_type": "code",
   "execution_count": 7,
   "metadata": {
    "id": "8QtbIfy2VNql"
   },
   "outputs": [],
   "source": [
    "# Split dataset into training and holdout datasets\n",
    "X_train, X_test, y_train, y_test = train_test_split(X,\n",
    "                                                    y,\n",
    "                                                    test_size=0.3, \n",
    "                                                    random_state=42)"
   ]
  },
  {
   "cell_type": "markdown",
   "metadata": {
    "id": "q9Y_Q6KFaLDb"
   },
   "source": [
    "Then we'll build our classifier, and fit the model to the data by using the `.fit()` function. We'll save the fitted model as a variable called `clf`."
   ]
  },
  {
   "cell_type": "code",
   "execution_count": 8,
   "metadata": {
    "colab": {
     "base_uri": "https://localhost:8080/"
    },
    "executionInfo": {
     "elapsed": 131,
     "status": "ok",
     "timestamp": 1660315959140,
     "user": {
      "displayName": "Rebecca Weng",
      "userId": "08002348150894593460"
     },
     "user_tz": 240
    },
    "id": "l3Rv5aTmVPSK",
    "outputId": "94aa4671-0899-4e43-fbdb-05e19a7e02d9"
   },
   "outputs": [],
   "source": [
    "clf = LogisticRegression().fit(X_train,y_train)"
   ]
  },
  {
   "cell_type": "markdown",
   "metadata": {
    "id": "PnUMpj--fFOu"
   },
   "source": [
    "## Get coefficients and visualize model"
   ]
  },
  {
   "cell_type": "markdown",
   "metadata": {
    "id": "sKauz4Kzfmo-"
   },
   "source": [
    "We can use the `coef_` and `intercept_` attributes of the `clf` object to get the coefficient and intercept of our model."
   ]
  },
  {
   "cell_type": "code",
   "execution_count": 9,
   "metadata": {
    "colab": {
     "base_uri": "https://localhost:8080/"
    },
    "executionInfo": {
     "elapsed": 212,
     "status": "ok",
     "timestamp": 1649713682019,
     "user": {
      "displayName": "Juan Delgado",
      "userId": "16851183442870430714"
     },
     "user_tz": 420
    },
    "id": "EYfPtlrQVZu6",
    "outputId": "51d89495-fbbd-42ca-a589-025134a2aa37"
   },
   "outputs": [
    {
     "data": {
      "text/plain": [
       "array([[-0.1177466]])"
      ]
     },
     "execution_count": 9,
     "metadata": {},
     "output_type": "execute_result"
    }
   ],
   "source": [
    "# Print the coefficient\n",
    "clf.coef_"
   ]
  },
  {
   "cell_type": "code",
   "execution_count": 10,
   "metadata": {
    "colab": {
     "base_uri": "https://localhost:8080/"
    },
    "executionInfo": {
     "elapsed": 7,
     "status": "ok",
     "timestamp": 1649713682019,
     "user": {
      "displayName": "Juan Delgado",
      "userId": "16851183442870430714"
     },
     "user_tz": 420
    },
    "id": "FSpqvdK4VbHl",
    "outputId": "b7d6ee76-8414-4cd1-e76a-3889915ef14e"
   },
   "outputs": [
    {
     "data": {
      "text/plain": [
       "array([6.10177895])"
      ]
     },
     "execution_count": 10,
     "metadata": {},
     "output_type": "execute_result"
    }
   ],
   "source": [
    "# Print the intercept\n",
    "clf.intercept_"
   ]
  },
  {
   "cell_type": "markdown",
   "metadata": {
    "id": "35pK54dfp_OA"
   },
   "source": [
    "So, based on what we've found, our model has an intercept or $\\beta_0$ of 6.10 and a $\\beta_1$ of -0.12. Now we can plot our model and data with a 95% confidence band using the `regplot()` function from the `seaborn` package. Remember to set the argument `logistic=True` so that the function knows we are plotting a logistic regression model, not a linear regression model."
   ]
  },
  {
   "cell_type": "code",
   "execution_count": 11,
   "metadata": {
    "colab": {
     "base_uri": "https://localhost:8080/",
     "height": 386
    },
    "executionInfo": {
     "elapsed": 11047,
     "status": "ok",
     "timestamp": 1649713693063,
     "user": {
      "displayName": "Juan Delgado",
      "userId": "16851183442870430714"
     },
     "user_tz": 420
    },
    "id": "CvXw7hN_VpTZ",
    "outputId": "db97cd3d-ef1b-44b1-8c90-a79aa3ac1b55"
   },
   "outputs": [
    {
     "data": {
      "image/png": "[encoded data removed]",
      "text/plain": [
       "<Figure size 432x288 with 1 Axes>"
      ]
     },
     "metadata": {
      "needs_background": "light"
     },
     "output_type": "display_data"
    }
   ],
   "source": [
    "# Plot the logistic regression and its confidence band\n",
    "sns.regplot(x=\"Acc (vertical)\", y=\"LyingDown\", data=activity, logistic=True)\n",
    "plt.show()"
   ]
  },
  {
   "cell_type": "markdown",
   "metadata": {
    "id": "0_Ruha3DV4PO"
   },
   "source": [
    "# Confusion matrix (Part II)"
   ]
  },
  {
   "cell_type": "markdown",
   "metadata": {
    "id": "M2gju1B8gmSi"
   },
   "source": [
    "This part of the notebook contains all of the code that will be presented in the second part of this section in the course. The focus is on **confusion matrices**, which are used to evaluate classification models, such as a binomial logistic regression model. \n",
    "\n",
    "**Note:** We are assuming that the earlier parts of this notebook have been run, and that the existing variables and imported packages have been saved. "
   ]
  },
  {
   "cell_type": "markdown",
   "metadata": {
    "id": "5RuQLzv6WaqZ"
   },
   "source": [
    "## Construct logistic regression model"
   ]
  },
  {
   "cell_type": "markdown",
   "metadata": {
    "id": "4Lx_Lt68hWBs"
   },
   "source": [
    "Once again, we split our data, which is currently saved as variables `X` and `y`, into training and holdout datasets using the `train_test_split()` function. The function has already been imported from the `scikit-learn` package. Then, we build the model by using the `LogisticRegression()` function with the `.fit()` function.\n",
    "\n",
    "Next, we can save our model's predictions by inputting the holdout sample, `X_test` into the model's `.predict()` function."
   ]
  },
  {
   "cell_type": "code",
   "execution_count": 12,
   "metadata": {
    "colab": {
     "base_uri": "https://localhost:8080/"
    },
    "executionInfo": {
     "elapsed": 138,
     "status": "ok",
     "timestamp": 1660316061854,
     "user": {
      "displayName": "Rebecca Weng",
      "userId": "08002348150894593460"
     },
     "user_tz": 240
    },
    "id": "ZVDOckUsV5Zh",
    "outputId": "5bee8075-c21b-482d-abea-2f26789cc557"
   },
   "outputs": [],
   "source": [
    "# Split data into training and holdout samples\n",
    "X_train, X_test, y_train, y_test = train_test_split(X, y, test_size=0.3, random_state=42)\n",
    "\n",
    "# Build regression model\n",
    "clf = LogisticRegression().fit(X_train,y_train)\n",
    "\n",
    "# Save predictions\n",
    "y_pred = clf.predict(X_test)"
   ]
  },
  {
   "cell_type": "markdown",
   "metadata": {
    "id": "7JCH5pd7hw40"
   },
   "source": [
    "We can print out the predicted labels by just calling on `clf.predict(X_test)`. Recall that 0 means not lying down, and 1 means lying down."
   ]
  },
  {
   "cell_type": "code",
   "execution_count": 13,
   "metadata": {
    "colab": {
     "base_uri": "https://localhost:8080/"
    },
    "executionInfo": {
     "elapsed": 157,
     "status": "ok",
     "timestamp": 1660316063049,
     "user": {
      "displayName": "Rebecca Weng",
      "userId": "08002348150894593460"
     },
     "user_tz": 240
    },
    "id": "sm8fa5eXV9yo",
    "outputId": "e76692e9-29fb-4295-e753-5b06bbfccc2e"
   },
   "outputs": [
    {
     "data": {
      "text/plain": [
       "array([0, 1, 0, 0, 1, 0, 0, 1, 1, 0, 1, 0, 0, 1, 1, 0, 0, 0, 1, 1, 0, 1,\n",
       "       1, 0, 1, 0, 1, 1, 0, 1, 0, 0, 1, 0, 1, 0, 1, 1, 1, 1, 0, 1, 0, 1,\n",
       "       0, 0, 0, 0, 0, 0, 1, 0, 0, 1, 0, 1, 0, 1, 0, 1, 0, 0, 0, 1, 0, 0,\n",
       "       1, 1, 0, 0, 1, 0, 0, 0, 0, 0, 1, 1, 0, 0, 0, 1, 1, 0, 1, 0, 1, 1,\n",
       "       1, 0, 1, 0, 1, 1, 1, 1, 1, 0, 1, 1, 0, 0, 1, 1, 1, 1, 1, 1, 1, 0,\n",
       "       0, 0, 1, 0, 1, 1, 0, 1, 1, 1, 1, 1, 1, 0, 1, 1, 0, 1, 1, 0, 1, 0,\n",
       "       0, 1, 0, 0, 1, 1, 0, 1, 0, 1, 0, 0, 1, 0, 1, 1, 1])"
      ]
     },
     "execution_count": 13,
     "metadata": {},
     "output_type": "execute_result"
    }
   ],
   "source": [
    "# Print out the predicted labels\n",
    "clf.predict(X_test)"
   ]
  },
  {
   "cell_type": "markdown",
   "metadata": {
    "id": "2ErWdThvh4Ea"
   },
   "source": [
    "But, the model actually calculates a probability that given a particular value of X, the person is lying down. We can print out the predicted probabilities with the following line of code. You can read more about the [`LogisticRegression()` function](https://scikit-learn.org/stable/modules/generated/sklearn.linear_model.LogisticRegression.html), its attributes, and related functions on the `scikit-learn` website."
   ]
  },
  {
   "cell_type": "code",
   "execution_count": 14,
   "metadata": {
    "colab": {
     "base_uri": "https://localhost:8080/"
    },
    "executionInfo": {
     "elapsed": 209,
     "status": "ok",
     "timestamp": 1660316066497,
     "user": {
      "displayName": "Rebecca Weng",
      "userId": "08002348150894593460"
     },
     "user_tz": 240
    },
    "id": "mAF_vjFKWPlU",
    "outputId": "a23d4d69-8203-435a-a9a1-439b774c453c"
   },
   "outputs": [
    {
     "data": {
      "text/plain": [
       "array([2.31693308e-02, 9.97511568e-01, 1.04282071e-02, 1.05672351e-03,\n",
       "       9.99781257e-01, 1.04282071e-02, 4.66017106e-03, 9.95733864e-01,\n",
       "       9.72343955e-01, 2.31693308e-02, 9.97825589e-01, 1.36212174e-02,\n",
       "       3.43616982e-02, 9.95733864e-01, 9.98892860e-01, 5.75929752e-02,\n",
       "       4.77298577e-01, 6.09795092e-03, 9.98732777e-01, 9.92695617e-01,\n",
       "       3.91403776e-02, 9.31712676e-01, 9.64063419e-01, 1.55638073e-02,\n",
       "       9.83708329e-01, 1.19195424e-02, 7.55107906e-01, 8.74057100e-01,\n",
       "       3.43616982e-02, 9.91646273e-01, 1.77763901e-02, 1.19195424e-02,\n",
       "       9.97152314e-01, 2.64340977e-02, 9.98892860e-01, 1.19195424e-02,\n",
       "       9.31712676e-01, 9.95119247e-01, 9.00935568e-01, 9.22594161e-01,\n",
       "       8.39846087e-02, 9.99624389e-01, 1.19195424e-02, 8.01629006e-01,\n",
       "       5.33106480e-03, 1.36212174e-02, 3.01447030e-02, 3.55976011e-03,\n",
       "       4.07288328e-03, 1.19195424e-02, 9.98892860e-01, 6.53836704e-02,\n",
       "       4.07288328e-03, 9.98892860e-01, 9.12067619e-03, 9.53422359e-01,\n",
       "       1.20976784e-03, 9.89081439e-01, 6.53836704e-02, 9.99950563e-01,\n",
       "       3.55976011e-03, 4.66017106e-03, 9.49855175e-02, 9.99713340e-01,\n",
       "       6.09795092e-03, 2.71879989e-03, 9.98732777e-01, 9.92695617e-01,\n",
       "       2.02970330e-02, 4.66017106e-03, 9.92695617e-01, 4.66017106e-03,\n",
       "       3.55976011e-03, 8.06224240e-04, 1.77763901e-02, 5.75929752e-02,\n",
       "       9.83708329e-01, 9.98732777e-01, 5.75929752e-02, 2.12858682e-01,\n",
       "       1.55638073e-02, 9.78756075e-01, 9.98339943e-01, 1.07258677e-01,\n",
       "       9.53422359e-01, 6.97519741e-03, 9.97511568e-01, 9.99261761e-01,\n",
       "       9.99671864e-01, 1.04282071e-02, 9.96271374e-01, 1.55638073e-02,\n",
       "       9.98339943e-01, 9.98892860e-01, 9.87520863e-01, 9.31712676e-01,\n",
       "       9.47037987e-01, 2.64340977e-02, 7.55107906e-01, 9.99569998e-01,\n",
       "       4.66017106e-03, 3.91403776e-02, 8.22251990e-01, 9.99154973e-01,\n",
       "       9.39833736e-01, 9.39833736e-01, 9.98549580e-01, 9.85738795e-01,\n",
       "       9.93613325e-01, 9.12067619e-03, 6.97519741e-03, 1.19195424e-02,\n",
       "       9.99713340e-01, 6.97519741e-03, 9.99671864e-01, 9.95733864e-01,\n",
       "       4.45529655e-02, 9.59075003e-01, 9.99935211e-01, 9.99569998e-01,\n",
       "       8.01629006e-01, 9.81394227e-01, 5.44778650e-01, 1.36212174e-02,\n",
       "       9.97825589e-01, 9.93613325e-01, 1.36212174e-02, 9.99781257e-01,\n",
       "       9.99154973e-01, 3.43616982e-02, 9.68463782e-01, 6.97519741e-03,\n",
       "       1.55638073e-02, 9.75755881e-01, 2.02970330e-02, 5.75929752e-02,\n",
       "       9.92695617e-01, 9.47037987e-01, 1.04282071e-02, 9.99355101e-01,\n",
       "       1.36212174e-02, 9.87520863e-01, 2.02970330e-02, 7.41453115e-02,\n",
       "       9.85738795e-01, 2.37530617e-03, 9.78756075e-01, 9.98732777e-01,\n",
       "       9.97511568e-01])"
      ]
     },
     "execution_count": 14,
     "metadata": {},
     "output_type": "execute_result"
    }
   ],
   "source": [
    "# Print out the predicted probabilities\n",
    "clf.predict_proba(X_test)[::,-1]"
   ]
  },
  {
   "cell_type": "markdown",
   "metadata": {
    "id": "CbBcvfOrWg5P"
   },
   "source": [
    "## Create confusion matrix\n",
    "\n"
   ]
  },
  {
   "cell_type": "markdown",
   "metadata": {
    "id": "6t3-mGl6iOy_"
   },
   "source": [
    "To finish this part of the course, we'll create a confusion matrix. Recall the following definition:\n",
    "\n",
    "* **Confusion matrix:** A graphical representation of how accurate a classifier is at predicting the labels for a categorical variable.\n",
    "\n",
    "To create a confusion matrix, we'll use the [`confusion_matrix()`](https://scikit-learn.org/stable/modules/generated/sklearn.metrics.confusion_matrix.html?highlight=confusion_matrix#sklearn.metrics.confusion_matrix) function from the `metrics` module of `scikit-learn`. To use the function, we'll need to input the following:\n",
    "* Actual labels of the holdout sample, stored as `y_test`\n",
    "* Predicted labels of the holdout sample, stored as `y_pred`\n",
    "* The names of the labels, which you can access using `clf.classes_`\n",
    "\n",
    "**Note:** If there were more classes, we would have more numbers or labels in `clf.classes_`. Since this is a binomial logistic regression, there are only two labels, 0 and 1."
   ]
  },
  {
   "cell_type": "code",
   "execution_count": 15,
   "metadata": {
    "id": "ae1-P7RoWRUg"
   },
   "outputs": [],
   "source": [
    "# Import the metrics module from scikit-learn\n",
    "import sklearn.metrics as metrics"
   ]
  },
  {
   "cell_type": "code",
   "execution_count": 16,
   "metadata": {
    "id": "eeDOYJiPWoon"
   },
   "outputs": [],
   "source": [
    "# Calculate the values for each quadrant in the confusion matrix\n",
    "cm = metrics.confusion_matrix(y_test, y_pred, labels = clf.classes_)"
   ]
  },
  {
   "cell_type": "code",
   "execution_count": 17,
   "metadata": {
    "id": "Q4lyzC1lWqam"
   },
   "outputs": [],
   "source": [
    "# Create the confusion matrix as a visualization\n",
    "disp = metrics.ConfusionMatrixDisplay(confusion_matrix = cm,display_labels = clf.classes_)"
   ]
  },
  {
   "cell_type": "markdown",
   "metadata": {
    "id": "nNhGHaC3kAYZ"
   },
   "source": [
    "In order to understand and interpret the numbers in the below confusion matrix, it is important to keep the following in mind:\n",
    "\n",
    "* The upper-left quadrant displays the number of **true negatives**.\n",
    "* The bottom-left quadrant displays the number of **false negatives**.\n",
    "* The upper-right quadrant displays the number of **false positives**.\n",
    "* The bottom-right quadrant displays the number of **true positives**.\n",
    "\n",
    "We can define the above bolded terms as follows in our given context:\n",
    "* **True negatives**: The number of people that were not lying down that the model accurately predicted were not lying down.\n",
    "* **False negatives**: The number of people that were lying down that the model inaccurately predicted were not lying down.\n",
    "* **False positives**: The number of people that were not lying down that the model inaccurately predicted were lying down.\n",
    "* **True positives**: The number of people that were lying down that the model accurately predicted were lying down.\n",
    "\n",
    "A perfect model would yield all true negatives and true positives, and no false negatives or false positives."
   ]
  },
  {
   "cell_type": "code",
   "execution_count": 18,
   "metadata": {
    "colab": {
     "base_uri": "https://localhost:8080/",
     "height": 297
    },
    "executionInfo": {
     "elapsed": 899,
     "status": "ok",
     "timestamp": 1660316134878,
     "user": {
      "displayName": "Rebecca Weng",
      "userId": "08002348150894593460"
     },
     "user_tz": 240
    },
    "id": "ir21gQNgWvG_",
    "outputId": "ebfc6f88-42e3-43dc-d4a7-3a10bb9c2556"
   },
   "outputs": [
    {
     "data": {
      "image/png": "[encoded data removed]",
      "text/plain": [
       "<Figure size 432x288 with 2 Axes>"
      ]
     },
     "metadata": {
      "needs_background": "light"
     },
     "output_type": "display_data"
    }
   ],
   "source": [
    "# Display the confusion matrix\n",
    "disp.plot()\n",
    "plt.show()"
   ]
  },
  {
   "cell_type": "markdown",
   "metadata": {
    "id": "4gPq6bvR9C8x"
   },
   "source": [
    "**Congratulations!** You've completed this lab. However, you may not notice a green check mark next to this item on Coursera's platform. Please continue your progress regardless of the check mark. Just click on the \"save\" icon at the top of this notebook to ensure your work has been logged.\n",
    "\n",
    "You now understand how to build and evaluate a binomial logistic regression model with Python. Going forward, you can start using binomial logistic regression models with your own datasets."
   ]
  }
 ],
 "metadata": {
  "colab": {
   "provenance": [
    {
     "file_id": "1vEN8XK55WoroYhsABd6ZEtj0Q8qmDSuR",
     "timestamp": 1664216111974
    },
    {
     "file_id": "177TsWXl_cY54HcC2o50r0l6HQSEzezH1",
     "timestamp": 1660316667116
    },
    {
     "file_id": "1xL6yI27HIg16c-tY9Kkahbkbt23h3598",
     "timestamp": 1659977674619
    }
   ]
  },
  "kernelspec": {
   "display_name": "Python 3",
   "language": "python",
   "name": "python3"
  },
  "language_info": {
   "codemirror_mode": {
    "name": "ipython",
    "version": 3
   },
   "file_extension": ".py",
   "mimetype": "text/x-python",
   "name": "python",
   "nbconvert_exporter": "python",
   "pygments_lexer": "ipython3",
   "version": "3.7.6"
  }
 },
 "nbformat": 4,
 "nbformat_minor": 1
}
